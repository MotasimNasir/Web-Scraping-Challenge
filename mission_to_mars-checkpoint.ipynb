{
 "cells": [
  {
   "cell_type": "code",
   "execution_count": 26,
   "id": "5eca8bed",
   "metadata": {},
   "outputs": [],
   "source": [
    "from bs4 import BeautifulSoup as bs\n",
    "from webdriver_manager.chrome import ChromeDriverManager\n",
    "import pandas as pd\n",
    "from splinter import Browser\n",
    "import time\n",
    "from selenium import webdriver"
   ]
  },
  {
   "cell_type": "code",
   "execution_count": 27,
   "id": "e679ce7b",
   "metadata": {},
   "outputs": [],
   "source": [
    "# Setup splinter\n",
    "executable_path = {'executable_path': ChromeDriverManager().install()}\n",
    "browser = Browser('chrome', **executable_path, headless=False)"
   ]
  },
  {
   "cell_type": "markdown",
   "id": "77540c1c",
   "metadata": {},
   "source": [
    "# NASA Mars News"
   ]
  },
  {
   "cell_type": "code",
   "execution_count": 29,
   "id": "a9ccaa50",
   "metadata": {},
   "outputs": [
    {
     "name": "stdout",
     "output_type": "stream",
     "text": [
      " news_title = Meet the People Behind NASA's Perseverance Rover\n",
      " news_p = These are the scientists and engineers who built NASA's next Mars rover and who will guide it to a safe landing in Jezero Crater. \n"
     ]
    }
   ],
   "source": [
    "#going on red planet science \n",
    "Nasa_url = \"https://redplanetscience.com/\"\n",
    "browser.visit(Nasa_url)\n",
    "#creating my html object and parsing with bs\n",
    "html = browser.html\n",
    "\n",
    "soup = bs(html, \"html.parser\")\n",
    "\n",
    "#title text extration\n",
    "\n",
    "                   \n",
    "latest_news_title = soup.find(\"div\", class_=\"content_title\").text\n",
    "\n",
    "print(f\" news_title = {latest_news_title}\")\n",
    "\n",
    "# paragraph extraction\n",
    "\n",
    "latest_news_paragraph = soup.find('div',class_='article_teaser_body').text\n",
    "\n",
    "print(f\" news_p = {latest_news_paragraph}\")\n",
    "\n"
   ]
  },
  {
   "cell_type": "markdown",
   "id": "f7c8e915",
   "metadata": {},
   "source": [
    "# JPL Mars Space Images --- Featured Image"
   ]
  },
  {
   "cell_type": "code",
   "execution_count": 36,
   "id": "2629d2b0",
   "metadata": {},
   "outputs": [
    {
     "name": "stdout",
     "output_type": "stream",
     "text": [
      " featured_image_url = https://spaceimages-mars.com/image/featured/mars2.jpg\n"
     ]
    }
   ],
   "source": [
    "#Visit the URL for the Featured Space Image site using splinter \n",
    "jpl_url = \"https://spaceimages-mars.com/\"\n",
    "browser.visit(jpl_url)\n",
    "reponse = browser.html\n",
    "soup = bs(reponse,\"html.parser\")\n",
    "#print(soup.prettify())\n",
    "\n",
    "image = soup.find(\"img\", class_=\"fade-in\")[\"src\"]\n",
    "featured_image_url = jpl_url+image\n",
    "\n",
    "print(f\" featured_image_url = {featured_image_url}\")\n"
   ]
  },
  {
   "cell_type": "markdown",
   "id": "b83b64b9",
   "metadata": {},
   "source": [
    "# Mars Facts"
   ]
  },
  {
   "cell_type": "code",
   "execution_count": 37,
   "id": "cf8a6c6f",
   "metadata": {},
   "outputs": [
    {
     "data": {
      "text/html": [
       "<table border=\"1\" class=\"dataframe marsdata\">\n",
       "  <thead>\n",
       "    <tr style=\"text-align: right;\">\n",
       "      <th></th>\n",
       "      <th>Mars</th>\n",
       "    </tr>\n",
       "  </thead>\n",
       "  <tbody>\n",
       "    <tr>\n",
       "      <th>Equatorial Diameter:</th>\n",
       "      <td>6,792 km</td>\n",
       "    </tr>\n",
       "    <tr>\n",
       "      <th>Polar Diameter:</th>\n",
       "      <td>6,752 km</td>\n",
       "    </tr>\n",
       "    <tr>\n",
       "      <th>Mass:</th>\n",
       "      <td>6.39 × 10^23 kg (0.11 Earths)</td>\n",
       "    </tr>\n",
       "    <tr>\n",
       "      <th>Moons:</th>\n",
       "      <td>2 (Phobos &amp; Deimos)</td>\n",
       "    </tr>\n",
       "    <tr>\n",
       "      <th>Orbit Distance:</th>\n",
       "      <td>227,943,824 km (1.38 AU)</td>\n",
       "    </tr>\n",
       "    <tr>\n",
       "      <th>Orbit Period:</th>\n",
       "      <td>687 days (1.9 years)</td>\n",
       "    </tr>\n",
       "    <tr>\n",
       "      <th>Surface Temperature:</th>\n",
       "      <td>-87 to -5 °C</td>\n",
       "    </tr>\n",
       "    <tr>\n",
       "      <th>First Record:</th>\n",
       "      <td>2nd millennium BC</td>\n",
       "    </tr>\n",
       "    <tr>\n",
       "      <th>Recorded By:</th>\n",
       "      <td>Egyptian astronomers</td>\n",
       "    </tr>\n",
       "  </tbody>\n",
       "</table>"
      ],
      "text/plain": [
       "<IPython.core.display.HTML object>"
      ]
     },
     "metadata": {},
     "output_type": "display_data"
    }
   ],
   "source": [
    "#visting the mars facts webpage\n",
    "mars_facts_url = \"https://space-facts.com/mars/\"\n",
    "#browser.visit(mars_facts)\n",
    "\n",
    "#creating DataFrame to store the scraped data\n",
    "facts_table = pd.read_html(mars_facts_url)\n",
    "\n",
    "#Create Dataframe to store table data\n",
    "#df = facts_table[0]\n",
    "#df.columns = ['Mars-Earth Comparison', 'Mars', 'Earth']\n",
    "#html_table = df.to_html()\n",
    "#html_table\n",
    "mars_data_df = facts_table[0]\n",
    "mars_data_df.columns = [\"label\", \"Mars\"]\n",
    "mars_data_df.set_index(\"label\",inplace=True)\n",
    "mars_data_df.index.name=None \n",
    "#mars_data_df\n",
    "#using pandas to convert the table to a html\n",
    "html_table = mars_data_df.to_html(classes=\"marsdata\")\n",
    "from IPython.display import HTML\n",
    "display(HTML(html_table))"
   ]
  },
  {
   "cell_type": "markdown",
   "id": "e16daf91",
   "metadata": {},
   "source": [
    "# Mars Hemispheres"
   ]
  },
  {
   "cell_type": "code",
   "execution_count": 38,
   "id": "5b383165",
   "metadata": {},
   "outputs": [
    {
     "name": "stdout",
     "output_type": "stream",
     "text": [
      "https://marshemispheres.com/images/f5e372a36edfa389625da6d0cc25d905_cerberus_enhanced.tif_full.jpg\n",
      "https://marshemispheres.com/images/3778f7b43bbbc89d6e3cfabb3613ba93_schiaparelli_enhanced.tif_full.jpg\n",
      "https://marshemispheres.com/images/555e6403a6ddd7ba16ddb0e471cadcf7_syrtis_major_enhanced.tif_full.jpg\n",
      "https://marshemispheres.com/images/b3c7c6c9138f57b4756be9b9c43e3a48_valles_marineris_enhanced.tif_full.jpg\n"
     ]
    }
   ],
   "source": [
    "#visiting the webpage\n",
    "Hemispheres_url = \"https://marshemispheres.com/\"\n",
    "browser.visit(Hemispheres_url)\n",
    "hemi_html = browser.html\n",
    "soup = bs(hemi_html, \"html.parser\")\n",
    "hem_link = soup.find_all(\"div\", class_=\"item\")\n",
    "\n",
    "#creating a list to collect the image_urls\n",
    "hemisp_image_urls = []\n",
    "\n",
    "# looping into the link to collect titles and image_url\n",
    "\n",
    "for x in hem_link:\n",
    "    \n",
    "    title = x.find(\"h3\").text\n",
    "    img_url = x.find(\"a\")[\"href\"]\n",
    "    hemi_img_url = Hemispheres_url + img_url\n",
    "    \n",
    "    browser.visit(hemi_img_url)\n",
    "    Hemip_html = browser.html\n",
    "    hemi_soup = bs(Hemip_html, \"html.parser\")\n",
    "    \n",
    "    \n",
    "    \n",
    "    hemisph_img_url =  hemi_soup.find(\"img\", class_= \"wide-image\")[\"src\"]\n",
    "    final_image_url =  Hemispheres_url+hemisph_img_url\n",
    "    \n",
    "    \n",
    "    \n",
    "    print(final_image_url)\n",
    "    \n",
    "    #appending the titles and hemisphere_urls into the dict\n",
    "    img_data=dict({'title':title, 'img_url':final_image_url})\n",
    "    hemisp_image_urls.append(img_data)\n"
   ]
  },
  {
   "cell_type": "code",
   "execution_count": 39,
   "id": "76455ac0",
   "metadata": {},
   "outputs": [
    {
     "data": {
      "text/plain": [
       "[{'title': 'Cerberus Hemisphere Enhanced',\n",
       "  'img_url': 'https://marshemispheres.com/images/f5e372a36edfa389625da6d0cc25d905_cerberus_enhanced.tif_full.jpg'},\n",
       " {'title': 'Schiaparelli Hemisphere Enhanced',\n",
       "  'img_url': 'https://marshemispheres.com/images/3778f7b43bbbc89d6e3cfabb3613ba93_schiaparelli_enhanced.tif_full.jpg'},\n",
       " {'title': 'Syrtis Major Hemisphere Enhanced',\n",
       "  'img_url': 'https://marshemispheres.com/images/555e6403a6ddd7ba16ddb0e471cadcf7_syrtis_major_enhanced.tif_full.jpg'},\n",
       " {'title': 'Valles Marineris Hemisphere Enhanced',\n",
       "  'img_url': 'https://marshemispheres.com/images/b3c7c6c9138f57b4756be9b9c43e3a48_valles_marineris_enhanced.tif_full.jpg'}]"
      ]
     },
     "execution_count": 39,
     "metadata": {},
     "output_type": "execute_result"
    }
   ],
   "source": [
    "hemisp_image_urls"
   ]
  },
  {
   "cell_type": "code",
   "execution_count": null,
   "id": "0ed7bea4",
   "metadata": {},
   "outputs": [],
   "source": []
  }
 ],
 "metadata": {
  "kernelspec": {
   "display_name": "PythonData",
   "language": "python",
   "name": "pythondata"
  },
  "language_info": {
   "codemirror_mode": {
    "name": "ipython",
    "version": 3
   },
   "file_extension": ".py",
   "mimetype": "text/x-python",
   "name": "python",
   "nbconvert_exporter": "python",
   "pygments_lexer": "ipython3",
   "version": "3.7.7"
  }
 },
 "nbformat": 4,
 "nbformat_minor": 5
}
