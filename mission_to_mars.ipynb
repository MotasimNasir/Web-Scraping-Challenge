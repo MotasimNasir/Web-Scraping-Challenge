{
 "cells": [
  {
   "cell_type": "code",
   "execution_count": 17,
   "id": "d9885cc5",
   "metadata": {},
   "outputs": [],
   "source": [
    "from bs4 import BeautifulSoup as bs\n",
    "from webdriver_manager.chrome import ChromeDriverManager\n",
    "import pandas as pd\n",
    "from splinter import Browser\n",
    "import time\n",
    "from selenium import webdriver"
   ]
  },
  {
   "cell_type": "code",
   "execution_count": 21,
   "id": "d7174a86",
   "metadata": {},
   "outputs": [],
   "source": [
    "from selenium.webdriver.chrome.webdriver import WebDriver\n",
    "from selenium.webdriver.chrome.options import Options\n",
    "\n",
    "chromeOptions = webdriver.ChromeOptions()\n",
    "chromeOptions.add_experimental_option(\"excludeSwitches\", ['enable-automation']);"
   ]
  },
  {
   "cell_type": "code",
   "execution_count": 22,
   "id": "4c9a69fa",
   "metadata": {},
   "outputs": [],
   "source": [
    "# Setup splinter\n",
    "executable_path = {'executable_path': ChromeDriverManager().install()}\n",
    "browser = Browser('chrome', **executable_path, headless=False)"
   ]
  },
  {
   "cell_type": "markdown",
   "id": "5171deb0",
   "metadata": {},
   "source": [
    "# NASA Mars News"
   ]
  },
  {
   "cell_type": "code",
   "execution_count": 10,
   "id": "d4ca5651",
   "metadata": {},
   "outputs": [
    {
     "name": "stdout",
     "output_type": "stream",
     "text": [
      " news_title = NASA's Mars 2020 Rover Tests Descent-Stage Separation\n",
      " news_p = A crane lifts the rocket-powered descent stage away from NASA's Mars 2020 rover after technicians tested the pyrotechnic charges that separate the two spacecraft.\n"
     ]
    }
   ],
   "source": [
    "#going on red planet science \n",
    "Nasa_url = \"https://redplanetscience.com/\"\n",
    "browser.visit(Nasa_url)\n",
    "#creating my html object and parsing with bs\n",
    "html = browser.html\n",
    "\n",
    "soup = bs(html, \"html.parser\")\n",
    "\n",
    "#title text extration\n",
    "\n",
    "                   \n",
    "latest_news_title = soup.find(\"div\", class_=\"content_title\").text\n",
    "\n",
    "print(f\" news_title = {latest_news_title}\")\n",
    "\n",
    "# paragraph extraction\n",
    "\n",
    "latest_news_paragraph = soup.find('div',class_='article_teaser_body').text\n",
    "\n",
    "print(f\" news_p = {latest_news_paragraph}\")\n",
    "\n"
   ]
  },
  {
   "cell_type": "markdown",
   "id": "7566988a",
   "metadata": {},
   "source": [
    "# JPL Mars Space Images --- Featured Image"
   ]
  },
  {
   "cell_type": "code",
   "execution_count": 11,
   "id": "0b032a4c",
   "metadata": {},
   "outputs": [
    {
     "name": "stdout",
     "output_type": "stream",
     "text": [
      " featured_image_url = https://spaceimages-mars.com/image/featured/mars2.jpg\n"
     ]
    }
   ],
   "source": [
    "#Visit the URL for the Featured Space Image site using splinter \n",
    "jpl_url = \"https://spaceimages-mars.com/\"\n",
    "browser.visit(jpl_url)\n",
    "reponse = browser.html\n",
    "soup = bs(reponse,\"html.parser\")\n",
    "#print(soup.prettify())\n",
    "\n",
    "image = soup.find(\"img\", class_=\"fade-in\")[\"src\"]\n",
    "featured_image_url = jpl_url+image\n",
    "\n",
    "print(f\" featured_image_url = {featured_image_url}\")\n"
   ]
  },
  {
   "cell_type": "markdown",
   "id": "5f5b8fd4",
   "metadata": {},
   "source": [
    "# Mars Facts"
   ]
  },
  {
   "cell_type": "code",
   "execution_count": 14,
   "id": "9dec3fcc",
   "metadata": {},
   "outputs": [
    {
     "data": {
      "text/html": [
       "<table border=\"1\" class=\"dataframe marsdata\">\n",
       "  <thead>\n",
       "    <tr style=\"text-align: right;\">\n",
       "      <th></th>\n",
       "      <th>Mars</th>\n",
       "    </tr>\n",
       "  </thead>\n",
       "  <tbody>\n",
       "    <tr>\n",
       "      <th>Equatorial Diameter:</th>\n",
       "      <td>6,792 km</td>\n",
       "    </tr>\n",
       "    <tr>\n",
       "      <th>Polar Diameter:</th>\n",
       "      <td>6,752 km</td>\n",
       "    </tr>\n",
       "    <tr>\n",
       "      <th>Mass:</th>\n",
       "      <td>6.39 × 10^23 kg (0.11 Earths)</td>\n",
       "    </tr>\n",
       "    <tr>\n",
       "      <th>Moons:</th>\n",
       "      <td>2 (Phobos &amp; Deimos)</td>\n",
       "    </tr>\n",
       "    <tr>\n",
       "      <th>Orbit Distance:</th>\n",
       "      <td>227,943,824 km (1.38 AU)</td>\n",
       "    </tr>\n",
       "    <tr>\n",
       "      <th>Orbit Period:</th>\n",
       "      <td>687 days (1.9 years)</td>\n",
       "    </tr>\n",
       "    <tr>\n",
       "      <th>Surface Temperature:</th>\n",
       "      <td>-87 to -5 °C</td>\n",
       "    </tr>\n",
       "    <tr>\n",
       "      <th>First Record:</th>\n",
       "      <td>2nd millennium BC</td>\n",
       "    </tr>\n",
       "    <tr>\n",
       "      <th>Recorded By:</th>\n",
       "      <td>Egyptian astronomers</td>\n",
       "    </tr>\n",
       "  </tbody>\n",
       "</table>"
      ],
      "text/plain": [
       "<IPython.core.display.HTML object>"
      ]
     },
     "metadata": {},
     "output_type": "display_data"
    }
   ],
   "source": [
    "#visting the mars facts webpage\n",
    "mars_facts_url = \"https://space-facts.com/mars/\"\n",
    "browser.visit(mars_facts_url)\n",
    "\n",
    "#creating DataFrame to store the scraped data\n",
    "facts_table = pd.read_html(mars_facts_url)\n",
    "\n",
    "#Create Dataframe to store table data\n",
    "#df = facts_table[0]\n",
    "#df.columns = ['Mars-Earth Comparison', 'Mars', 'Earth']\n",
    "#html_table = df.to_html()\n",
    "#html_table\n",
    "mars_data_df = facts_table[0]\n",
    "mars_data_df.columns = [\"label\", \"Mars\"]\n",
    "mars_data_df.set_index(\"label\",inplace=True)\n",
    "mars_data_df.index.name=None \n",
    "#mars_data_df\n",
    "#using pandas to convert the table to a html\n",
    "html_table = mars_data_df.to_html(classes=\"marsdata\")\n",
    "from IPython.display import HTML\n",
    "display(HTML(html_table))"
   ]
  },
  {
   "cell_type": "code",
   "execution_count": 27,
   "id": "c8852297",
   "metadata": {},
   "outputs": [
    {
     "data": {
      "text/plain": [
       "'<table border=\"1\" class=\"dataframe\">\\n  <thead>\\n    <tr style=\"text-align: right;\">\\n      <th></th>\\n      <th>Mars-Earth Comparison</th>\\n      <th>Mars</th>\\n      <th>Earth</th>\\n    </tr>\\n  </thead>\\n  <tbody>\\n    <tr>\\n      <th>0</th>\\n      <td>Mars - Earth Comparison</td>\\n      <td>Mars</td>\\n      <td>Earth</td>\\n    </tr>\\n    <tr>\\n      <th>1</th>\\n      <td>Diameter:</td>\\n      <td>6,779 km</td>\\n      <td>12,742 km</td>\\n    </tr>\\n    <tr>\\n      <th>2</th>\\n      <td>Mass:</td>\\n      <td>6.39 × 10^23 kg</td>\\n      <td>5.97 × 10^24 kg</td>\\n    </tr>\\n    <tr>\\n      <th>3</th>\\n      <td>Moons:</td>\\n      <td>2</td>\\n      <td>1</td>\\n    </tr>\\n    <tr>\\n      <th>4</th>\\n      <td>Distance from Sun:</td>\\n      <td>227,943,824 km</td>\\n      <td>149,598,262 km</td>\\n    </tr>\\n    <tr>\\n      <th>5</th>\\n      <td>Length of Year:</td>\\n      <td>687 Earth days</td>\\n      <td>365.24 days</td>\\n    </tr>\\n    <tr>\\n      <th>6</th>\\n      <td>Temperature:</td>\\n      <td>-87 to -5 °C</td>\\n      <td>-88 to 58°C</td>\\n    </tr>\\n  </tbody>\\n</table>'"
      ]
     },
     "execution_count": 27,
     "metadata": {},
     "output_type": "execute_result"
    }
   ],
   "source": [
    "nasa_url= \"https://galaxyfacts-mars.com/\"\n",
    "browser.visit(nasa_url)\n",
    "#creating DataFrame to store the scraped data\n",
    "marsfacts_df = pd.read_html(nasa_url)\n",
    "#marsfacts_df\n",
    "\n",
    "#Create Dataframe to store table data\n",
    "df = marsfacts_df[0]\n",
    "df.columns = ['Mars-Earth Comparison', 'Mars', 'Earth']\n",
    "html_table = df.to_html()\n",
    "html_table\n"
   ]
  },
  {
   "cell_type": "markdown",
   "id": "7a7f66b8",
   "metadata": {},
   "source": [
    "# Mars Hemispheres"
   ]
  },
  {
   "cell_type": "code",
   "execution_count": 41,
   "id": "4f44039a",
   "metadata": {},
   "outputs": [
    {
     "name": "stdout",
     "output_type": "stream",
     "text": [
      "https://marshemispheres.com/images/f5e372a36edfa389625da6d0cc25d905_cerberus_enhanced.tif_full.jpg\n",
      "https://marshemispheres.com/images/3778f7b43bbbc89d6e3cfabb3613ba93_schiaparelli_enhanced.tif_full.jpg\n",
      "https://marshemispheres.com/images/555e6403a6ddd7ba16ddb0e471cadcf7_syrtis_major_enhanced.tif_full.jpg\n",
      "https://marshemispheres.com/images/b3c7c6c9138f57b4756be9b9c43e3a48_valles_marineris_enhanced.tif_full.jpg\n"
     ]
    }
   ],
   "source": [
    "#visiting the webpage\n",
    "Hemispheres_url = \"https://marshemispheres.com/\"\n",
    "browser.visit(Hemispheres_url)\n",
    "hemi_html = browser.html\n",
    "soup = bs(hemi_html, \"html.parser\")\n",
    "hem_link = soup.find_all(\"div\", class_=\"item\")\n",
    "\n",
    "#creating a list to collect the image_urls\n",
    "hemisp_image_urls = []\n",
    "\n",
    "# looping into the link to collect titles and image_url\n",
    "\n",
    "for x in hem_link:\n",
    "    \n",
    "    title = x.find(\"h3\").text\n",
    "    img_url = x.find(\"a\")[\"href\"]\n",
    "    hemi_img_url = Hemispheres_url + img_url\n",
    "    \n",
    "    browser.visit(hemi_img_url)\n",
    "    Hemip_html = browser.html\n",
    "    hemi_soup = bs(Hemip_html, \"html.parser\")\n",
    "    \n",
    "    \n",
    "    \n",
    "    hemisph_img_url =  hemi_soup.find(\"img\", class_= \"wide-image\")[\"src\"]\n",
    "    final_image_url =  Hemispheres_url+hemisph_img_url\n",
    "    \n",
    "    \n",
    "    \n",
    "    print(final_image_url)\n",
    "    \n",
    "    #appending the titles and hemisphere_urls into the dict\n",
    "    img_data=dict({'title':title, 'img_url':final_image_url})\n",
    "    hemisp_image_urls.append(img_data)\n"
   ]
  },
  {
   "cell_type": "code",
   "execution_count": 40,
   "id": "fbdfb0a4",
   "metadata": {},
   "outputs": [
    {
     "name": "stdout",
     "output_type": "stream",
     "text": [
      "[{'title': 'Cerberus Hemisphere Enhanced', 'img_url': 'https://marshemispheres.com/images/f5e372a36edfa389625da6d0cc25d905_cerberus_enhanced.tif_full.jpg'}, {'title': 'Schiaparelli Hemisphere Enhanced', 'img_url': 'https://marshemispheres.com/images/3778f7b43bbbc89d6e3cfabb3613ba93_schiaparelli_enhanced.tif_full.jpg'}, {'title': 'Syrtis Major Hemisphere Enhanced', 'img_url': 'https://marshemispheres.com/images/555e6403a6ddd7ba16ddb0e471cadcf7_syrtis_major_enhanced.tif_full.jpg'}, {'title': 'Valles Marineris Hemisphere Enhanced', 'img_url': 'https://marshemispheres.com/images/b3c7c6c9138f57b4756be9b9c43e3a48_valles_marineris_enhanced.tif_full.jpg'}]\n"
     ]
    }
   ],
   "source": [
    "print(hemisp_image_urls)"
   ]
  },
  {
   "cell_type": "code",
   "execution_count": 36,
   "id": "bd070cb4",
   "metadata": {},
   "outputs": [
    {
     "data": {
      "text/plain": [
       "[{'title': 'Cerberus Hemisphere Enhanced',\n",
       "  'img_url': 'https://marshemispheres.com/images/f5e372a36edfa389625da6d0cc25d905_cerberus_enhanced.tif_full.jpg'},\n",
       " {'title': 'Schiaparelli Hemisphere Enhanced',\n",
       "  'img_url': 'https://marshemispheres.com/images/3778f7b43bbbc89d6e3cfabb3613ba93_schiaparelli_enhanced.tif_full.jpg'},\n",
       " {'title': 'Syrtis Major Hemisphere Enhanced',\n",
       "  'img_url': 'https://marshemispheres.com/images/555e6403a6ddd7ba16ddb0e471cadcf7_syrtis_major_enhanced.tif_full.jpg'},\n",
       " {'title': 'Valles Marineris Hemisphere Enhanced',\n",
       "  'img_url': 'https://marshemispheres.com/images/b3c7c6c9138f57b4756be9b9c43e3a48_valles_marineris_enhanced.tif_full.jpg'}]"
      ]
     },
     "execution_count": 36,
     "metadata": {},
     "output_type": "execute_result"
    }
   ],
   "source": [
    "\n",
    "hemisp_image_urls"
   ]
  },
  {
   "cell_type": "code",
   "execution_count": null,
   "id": "695bd8ad",
   "metadata": {},
   "outputs": [],
   "source": []
  }
 ],
 "metadata": {
  "kernelspec": {
   "display_name": "PythonData",
   "language": "python",
   "name": "pythondata"
  },
  "language_info": {
   "codemirror_mode": {
    "name": "ipython",
    "version": 3
   },
   "file_extension": ".py",
   "mimetype": "text/x-python",
   "name": "python",
   "nbconvert_exporter": "python",
   "pygments_lexer": "ipython3",
   "version": "3.7.7"
  }
 },
 "nbformat": 4,
 "nbformat_minor": 5
}
